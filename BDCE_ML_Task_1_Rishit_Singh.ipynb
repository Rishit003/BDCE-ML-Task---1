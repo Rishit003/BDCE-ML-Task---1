{
  "nbformat": 4,
  "nbformat_minor": 0,
  "metadata": {
    "colab": {
      "provenance": [],
      "collapsed_sections": [
        "L9fvzCvlcZPY",
        "AST2yDRwc1QN",
        "AX7C8Y8igS4c",
        "14cv5w6Skx3c"
      ],
      "authorship_tag": "ABX9TyMSvx7GIhddX/kpImq9DbZh",
      "include_colab_link": true
    },
    "kernelspec": {
      "name": "python3",
      "display_name": "Python 3"
    },
    "language_info": {
      "name": "python"
    }
  },
  "cells": [
    {
      "cell_type": "markdown",
      "metadata": {
        "id": "view-in-github",
        "colab_type": "text"
      },
      "source": [
        "<a href=\"https://colab.research.google.com/github/Rishit003/BDCE-ML-Task-1/blob/main/BDCE_ML_Task_1_Rishit_Singh.ipynb\" target=\"_parent\"><img src=\"https://colab.research.google.com/assets/colab-badge.svg\" alt=\"Open In Colab\"/></a>"
      ]
    },
    {
      "cell_type": "markdown",
      "source": [
        "# **Machine Learning Task - 1**\n",
        "## By Rishit Singh - 2313103"
      ],
      "metadata": {
        "id": "8wgqqWLIwS50"
      }
    },
    {
      "cell_type": "markdown",
      "source": [
        "### 1. Importing the data set"
      ],
      "metadata": {
        "id": "L9fvzCvlcZPY"
      }
    },
    {
      "cell_type": "markdown",
      "source": [
        "Importing the pandas, numpy and seaborn packages"
      ],
      "metadata": {
        "id": "qspij86eyzVX"
      }
    },
    {
      "cell_type": "code",
      "execution_count": 3,
      "metadata": {
        "id": "7fyNkRukZF2O"
      },
      "outputs": [],
      "source": [
        "import pandas\n",
        "import numpy\n",
        "import seaborn"
      ]
    },
    {
      "cell_type": "markdown",
      "source": [
        "Importing the csv file as data"
      ],
      "metadata": {
        "id": "Lzi-DqFAfY_O"
      }
    },
    {
      "cell_type": "code",
      "source": [
        "data = pandas.read_csv(\"user_behavior_dataset_task1.csv\")"
      ],
      "metadata": {
        "id": "KAuXFi6TbSL2"
      },
      "execution_count": 5,
      "outputs": []
    },
    {
      "cell_type": "markdown",
      "source": [
        "### 2. Initial impressions of the given data set"
      ],
      "metadata": {
        "id": "AST2yDRwc1QN"
      }
    },
    {
      "cell_type": "markdown",
      "source": [
        "Viewing some data"
      ],
      "metadata": {
        "id": "IBwfM87MzNLy"
      }
    },
    {
      "cell_type": "code",
      "source": [
        "print(data.head())\n",
        "print(data.tail())\n",
        "print(data.describe())"
      ],
      "metadata": {
        "colab": {
          "base_uri": "https://localhost:8080/"
        },
        "id": "r7ty5dlSzaYQ",
        "outputId": "a9c5f13c-e505-4458-e7b1-dc8eefb7ade0"
      },
      "execution_count": 11,
      "outputs": [
        {
          "output_type": "stream",
          "name": "stdout",
          "text": [
            "   User ID    Device Model Operating System  App Usage Time (min/day)  \\\n",
            "0        1  Google Pixel 5          Android                     393.0   \n",
            "1        2       OnePlus 9          Android                     268.0   \n",
            "2        3    Xiaomi Mi 11          Android                     154.0   \n",
            "3        4  Google Pixel 5          Android                     239.0   \n",
            "4        5       iPhone 12              iOS                     187.0   \n",
            "\n",
            "   Screen On Time (hours/day)  Battery Drain (mAh/day)  \\\n",
            "0                         6.4                   1872.0   \n",
            "1                         4.7                   1331.0   \n",
            "2                         4.0                    761.0   \n",
            "3                         4.8                   1676.0   \n",
            "4                         4.3                   1367.0   \n",
            "\n",
            "   Number of Apps Installed  Data Usage (MB/day)   Age  Gender  \\\n",
            "0                      67.0               1122.0  40.0    Male   \n",
            "1                      42.0                944.0  47.0  Female   \n",
            "2                      32.0                322.0  42.0    Male   \n",
            "3                      56.0                871.0  20.0    Male   \n",
            "4                      58.0                988.0  31.0  Female   \n",
            "\n",
            "   User Behavior Class  \n",
            "0                    4  \n",
            "1                    3  \n",
            "2                    2  \n",
            "3                    3  \n",
            "4                    3  \n",
            "     User ID        Device Model Operating System  App Usage Time (min/day)  \\\n",
            "692      693        Xiaomi Mi 11          Android                     378.0   \n",
            "694      695  Samsung Galaxy S21          Android                     564.0   \n",
            "695      696           iPhone 12              iOS                      92.0   \n",
            "697      698      Google Pixel 5          Android                      99.0   \n",
            "698      699  Samsung Galaxy S21          Android                      62.0   \n",
            "\n",
            "     Screen On Time (hours/day)  Battery Drain (mAh/day)  \\\n",
            "692                         6.7                   1898.0   \n",
            "694                         9.7                   2422.0   \n",
            "695                         3.9                   1082.0   \n",
            "697                         3.1                    942.0   \n",
            "698                         1.7                    431.0   \n",
            "\n",
            "     Number of Apps Installed  Data Usage (MB/day)   Age  Gender  \\\n",
            "692                      78.0               1455.0  48.0  Female   \n",
            "694                      83.0               1985.0  34.0  Female   \n",
            "695                      26.0                381.0  22.0    Male   \n",
            "697                      22.0                457.0  50.0  Female   \n",
            "698                      13.0                224.0  44.0    Male   \n",
            "\n",
            "     User Behavior Class  \n",
            "692                    4  \n",
            "694                    5  \n",
            "695                    2  \n",
            "697                    2  \n",
            "698                    1  \n",
            "          User ID  App Usage Time (min/day)  Screen On Time (hours/day)  \\\n",
            "count  640.000000                640.000000                  640.000000   \n",
            "mean   342.554688                273.921875                    5.336719   \n",
            "std    204.160260                177.725792                    3.060799   \n",
            "min      1.000000                 30.000000                    1.000000   \n",
            "25%    172.750000                119.000000                    2.675000   \n",
            "50%    341.500000                228.500000                    5.000000   \n",
            "75%    511.250000                441.250000                    7.400000   \n",
            "max    699.000000                598.000000                   12.000000   \n",
            "\n",
            "       Battery Drain (mAh/day)  Number of Apps Installed  Data Usage (MB/day)  \\\n",
            "count               640.000000                640.000000           640.000000   \n",
            "mean               1541.690625                 51.110937           943.243750   \n",
            "std                 813.010943                 26.840663           644.935631   \n",
            "min                 302.000000                 10.000000           103.000000   \n",
            "25%                 747.000000                 27.750000           392.750000   \n",
            "50%                1530.000000                 49.500000           842.000000   \n",
            "75%                2243.250000                 75.000000          1363.000000   \n",
            "max                2993.000000                 99.000000          2497.000000   \n",
            "\n",
            "              Age  User Behavior Class  \n",
            "count  640.000000           640.000000  \n",
            "mean    38.428125             3.020313  \n",
            "std     12.063778             1.394566  \n",
            "min     18.000000             1.000000  \n",
            "25%     28.000000             2.000000  \n",
            "50%     38.000000             3.000000  \n",
            "75%     49.000000             4.000000  \n",
            "max     59.000000             5.000000  \n"
          ]
        }
      ]
    },
    {
      "cell_type": "markdown",
      "source": [
        "Pandas command to print out the number of unique values for different data variables."
      ],
      "metadata": {
        "id": "Ul3CeIwMfieB"
      }
    },
    {
      "cell_type": "code",
      "source": [
        "data.nunique()"
      ],
      "metadata": {
        "colab": {
          "base_uri": "https://localhost:8080/",
          "height": 429
        },
        "id": "eB2hCfhQbgks",
        "outputId": "7f2ddc62-d7e6-43ce-fc20-bac96f1b8895"
      },
      "execution_count": 13,
      "outputs": [
        {
          "output_type": "execute_result",
          "data": {
            "text/plain": [
              "User ID                       671\n",
              "Device Model                    5\n",
              "Operating System                2\n",
              "App Usage Time (min/day)      380\n",
              "Screen On Time (hours/day)    107\n",
              "Battery Drain (mAh/day)       596\n",
              "Number of Apps Installed       86\n",
              "Data Usage (MB/day)           560\n",
              "Age                            42\n",
              "Gender                          2\n",
              "User Behavior Class             5\n",
              "dtype: int64"
            ],
            "text/html": [
              "<div>\n",
              "<style scoped>\n",
              "    .dataframe tbody tr th:only-of-type {\n",
              "        vertical-align: middle;\n",
              "    }\n",
              "\n",
              "    .dataframe tbody tr th {\n",
              "        vertical-align: top;\n",
              "    }\n",
              "\n",
              "    .dataframe thead th {\n",
              "        text-align: right;\n",
              "    }\n",
              "</style>\n",
              "<table border=\"1\" class=\"dataframe\">\n",
              "  <thead>\n",
              "    <tr style=\"text-align: right;\">\n",
              "      <th></th>\n",
              "      <th>0</th>\n",
              "    </tr>\n",
              "  </thead>\n",
              "  <tbody>\n",
              "    <tr>\n",
              "      <th>User ID</th>\n",
              "      <td>671</td>\n",
              "    </tr>\n",
              "    <tr>\n",
              "      <th>Device Model</th>\n",
              "      <td>5</td>\n",
              "    </tr>\n",
              "    <tr>\n",
              "      <th>Operating System</th>\n",
              "      <td>2</td>\n",
              "    </tr>\n",
              "    <tr>\n",
              "      <th>App Usage Time (min/day)</th>\n",
              "      <td>380</td>\n",
              "    </tr>\n",
              "    <tr>\n",
              "      <th>Screen On Time (hours/day)</th>\n",
              "      <td>107</td>\n",
              "    </tr>\n",
              "    <tr>\n",
              "      <th>Battery Drain (mAh/day)</th>\n",
              "      <td>596</td>\n",
              "    </tr>\n",
              "    <tr>\n",
              "      <th>Number of Apps Installed</th>\n",
              "      <td>86</td>\n",
              "    </tr>\n",
              "    <tr>\n",
              "      <th>Data Usage (MB/day)</th>\n",
              "      <td>560</td>\n",
              "    </tr>\n",
              "    <tr>\n",
              "      <th>Age</th>\n",
              "      <td>42</td>\n",
              "    </tr>\n",
              "    <tr>\n",
              "      <th>Gender</th>\n",
              "      <td>2</td>\n",
              "    </tr>\n",
              "    <tr>\n",
              "      <th>User Behavior Class</th>\n",
              "      <td>5</td>\n",
              "    </tr>\n",
              "  </tbody>\n",
              "</table>\n",
              "</div><br><label><b>dtype:</b> int64</label>"
            ]
          },
          "metadata": {},
          "execution_count": 13
        }
      ]
    },
    {
      "cell_type": "markdown",
      "source": [
        "We can conclude from above that our data set contains behaviour of smartphone users accross 5 different smartphone models. We can also conclude that each user is assigned a behaviour class from 1-5."
      ],
      "metadata": {
        "id": "K-BnPgAQfHmk"
      }
    },
    {
      "cell_type": "markdown",
      "source": [
        "### 3. Cleaning the data set"
      ],
      "metadata": {
        "id": "AX7C8Y8igS4c"
      }
    },
    {
      "cell_type": "markdown",
      "source": [
        "Checking for null values"
      ],
      "metadata": {
        "id": "GUv_v5scgX6a"
      }
    },
    {
      "cell_type": "code",
      "source": [
        "data.isnull().sum()"
      ],
      "metadata": {
        "colab": {
          "base_uri": "https://localhost:8080/",
          "height": 429
        },
        "id": "e5BfZIt1g3zl",
        "outputId": "a2f26d13-be7a-449d-da10-2c0588ea2a1d"
      },
      "execution_count": 6,
      "outputs": [
        {
          "output_type": "execute_result",
          "data": {
            "text/plain": [
              "User ID                        0\n",
              "Device Model                   2\n",
              "Operating System               0\n",
              "App Usage Time (min/day)       8\n",
              "Screen On Time (hours/day)    11\n",
              "Battery Drain (mAh/day)       12\n",
              "Number of Apps Installed      13\n",
              "Data Usage (MB/day)            7\n",
              "Age                           10\n",
              "Gender                         0\n",
              "User Behavior Class            0\n",
              "dtype: int64"
            ],
            "text/html": [
              "<div>\n",
              "<style scoped>\n",
              "    .dataframe tbody tr th:only-of-type {\n",
              "        vertical-align: middle;\n",
              "    }\n",
              "\n",
              "    .dataframe tbody tr th {\n",
              "        vertical-align: top;\n",
              "    }\n",
              "\n",
              "    .dataframe thead th {\n",
              "        text-align: right;\n",
              "    }\n",
              "</style>\n",
              "<table border=\"1\" class=\"dataframe\">\n",
              "  <thead>\n",
              "    <tr style=\"text-align: right;\">\n",
              "      <th></th>\n",
              "      <th>0</th>\n",
              "    </tr>\n",
              "  </thead>\n",
              "  <tbody>\n",
              "    <tr>\n",
              "      <th>User ID</th>\n",
              "      <td>0</td>\n",
              "    </tr>\n",
              "    <tr>\n",
              "      <th>Device Model</th>\n",
              "      <td>2</td>\n",
              "    </tr>\n",
              "    <tr>\n",
              "      <th>Operating System</th>\n",
              "      <td>0</td>\n",
              "    </tr>\n",
              "    <tr>\n",
              "      <th>App Usage Time (min/day)</th>\n",
              "      <td>8</td>\n",
              "    </tr>\n",
              "    <tr>\n",
              "      <th>Screen On Time (hours/day)</th>\n",
              "      <td>11</td>\n",
              "    </tr>\n",
              "    <tr>\n",
              "      <th>Battery Drain (mAh/day)</th>\n",
              "      <td>12</td>\n",
              "    </tr>\n",
              "    <tr>\n",
              "      <th>Number of Apps Installed</th>\n",
              "      <td>13</td>\n",
              "    </tr>\n",
              "    <tr>\n",
              "      <th>Data Usage (MB/day)</th>\n",
              "      <td>7</td>\n",
              "    </tr>\n",
              "    <tr>\n",
              "      <th>Age</th>\n",
              "      <td>10</td>\n",
              "    </tr>\n",
              "    <tr>\n",
              "      <th>Gender</th>\n",
              "      <td>0</td>\n",
              "    </tr>\n",
              "    <tr>\n",
              "      <th>User Behavior Class</th>\n",
              "      <td>0</td>\n",
              "    </tr>\n",
              "  </tbody>\n",
              "</table>\n",
              "</div><br><label><b>dtype:</b> int64</label>"
            ]
          },
          "metadata": {},
          "execution_count": 6
        }
      ]
    },
    {
      "cell_type": "markdown",
      "source": [
        "Checking how many user entries are containg null values."
      ],
      "metadata": {
        "id": "S3piEE9pkQlc"
      }
    },
    {
      "cell_type": "code",
      "source": [
        "clean_data = data.dropna(axis = 0)"
      ],
      "metadata": {
        "id": "-wLkq9FciVXj"
      },
      "execution_count": 7,
      "outputs": []
    },
    {
      "cell_type": "code",
      "source": [
        "clean_data.nunique()"
      ],
      "metadata": {
        "colab": {
          "base_uri": "https://localhost:8080/",
          "height": 429
        },
        "id": "j1z-hgvYjkZN",
        "outputId": "a6a86cc4-d451-4ef5-f27d-5d0b00c9f04e"
      },
      "execution_count": 8,
      "outputs": [
        {
          "output_type": "execute_result",
          "data": {
            "text/plain": [
              "User ID                       615\n",
              "Device Model                    5\n",
              "Operating System                2\n",
              "App Usage Time (min/day)      361\n",
              "Screen On Time (hours/day)    107\n",
              "Battery Drain (mAh/day)       563\n",
              "Number of Apps Installed       86\n",
              "Data Usage (MB/day)           525\n",
              "Age                            42\n",
              "Gender                          2\n",
              "User Behavior Class             5\n",
              "dtype: int64"
            ],
            "text/html": [
              "<div>\n",
              "<style scoped>\n",
              "    .dataframe tbody tr th:only-of-type {\n",
              "        vertical-align: middle;\n",
              "    }\n",
              "\n",
              "    .dataframe tbody tr th {\n",
              "        vertical-align: top;\n",
              "    }\n",
              "\n",
              "    .dataframe thead th {\n",
              "        text-align: right;\n",
              "    }\n",
              "</style>\n",
              "<table border=\"1\" class=\"dataframe\">\n",
              "  <thead>\n",
              "    <tr style=\"text-align: right;\">\n",
              "      <th></th>\n",
              "      <th>0</th>\n",
              "    </tr>\n",
              "  </thead>\n",
              "  <tbody>\n",
              "    <tr>\n",
              "      <th>User ID</th>\n",
              "      <td>615</td>\n",
              "    </tr>\n",
              "    <tr>\n",
              "      <th>Device Model</th>\n",
              "      <td>5</td>\n",
              "    </tr>\n",
              "    <tr>\n",
              "      <th>Operating System</th>\n",
              "      <td>2</td>\n",
              "    </tr>\n",
              "    <tr>\n",
              "      <th>App Usage Time (min/day)</th>\n",
              "      <td>361</td>\n",
              "    </tr>\n",
              "    <tr>\n",
              "      <th>Screen On Time (hours/day)</th>\n",
              "      <td>107</td>\n",
              "    </tr>\n",
              "    <tr>\n",
              "      <th>Battery Drain (mAh/day)</th>\n",
              "      <td>563</td>\n",
              "    </tr>\n",
              "    <tr>\n",
              "      <th>Number of Apps Installed</th>\n",
              "      <td>86</td>\n",
              "    </tr>\n",
              "    <tr>\n",
              "      <th>Data Usage (MB/day)</th>\n",
              "      <td>525</td>\n",
              "    </tr>\n",
              "    <tr>\n",
              "      <th>Age</th>\n",
              "      <td>42</td>\n",
              "    </tr>\n",
              "    <tr>\n",
              "      <th>Gender</th>\n",
              "      <td>2</td>\n",
              "    </tr>\n",
              "    <tr>\n",
              "      <th>User Behavior Class</th>\n",
              "      <td>5</td>\n",
              "    </tr>\n",
              "  </tbody>\n",
              "</table>\n",
              "</div><br><label><b>dtype:</b> int64</label>"
            ]
          },
          "metadata": {},
          "execution_count": 8
        }
      ]
    },
    {
      "cell_type": "markdown",
      "source": [
        "We can see that there are 56 user entries which has  null values. Since the number is pretty low, it will not effect our analysis when dropped."
      ],
      "metadata": {
        "id": "GAd9z84qj4bK"
      }
    },
    {
      "cell_type": "code",
      "source": [
        "data=clean_data"
      ],
      "metadata": {
        "id": "Oc5MbS2L1EW0"
      },
      "execution_count": 9,
      "outputs": []
    },
    {
      "cell_type": "markdown",
      "source": [
        "### 4. Visualising the data set"
      ],
      "metadata": {
        "id": "14cv5w6Skx3c"
      }
    },
    {
      "cell_type": "markdown",
      "source": [],
      "metadata": {
        "id": "cVj_gwYk2_gK"
      }
    },
    {
      "cell_type": "code",
      "source": [],
      "metadata": {
        "id": "jLyugqXypUW-"
      },
      "execution_count": null,
      "outputs": []
    }
  ]
}